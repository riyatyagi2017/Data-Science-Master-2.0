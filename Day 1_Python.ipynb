{
 "cells": [
  {
   "cell_type": "code",
   "execution_count": 4,
   "id": "7ca77048-2478-429a-9011-309041a630a7",
   "metadata": {},
   "outputs": [
    {
     "data": {
      "text/plain": [
       "'hello world'"
      ]
     },
     "execution_count": 4,
     "metadata": {},
     "output_type": "execute_result"
    }
   ],
   "source": [
    "\"hello world\""
   ]
  },
  {
   "cell_type": "code",
   "execution_count": 5,
   "id": "feed30de-8239-4d4f-9ffc-46f846b34a41",
   "metadata": {},
   "outputs": [
    {
     "name": "stdout",
     "output_type": "stream",
     "text": [
      "hello world\n"
     ]
    }
   ],
   "source": [
    "print(\"hello world\")"
   ]
  },
  {
   "cell_type": "code",
   "execution_count": 10,
   "id": "4c0d6157-8f23-4f30-884b-1ed6417b02bd",
   "metadata": {},
   "outputs": [
    {
     "name": "stdout",
     "output_type": "stream",
     "text": [
      "hello world,\n",
      "I am learning data science.\n"
     ]
    }
   ],
   "source": [
    "print(\"hello world,\\nI am learning data science.\")"
   ]
  },
  {
   "cell_type": "code",
   "execution_count": 11,
   "id": "4c0f24b6-0c0a-46f7-b075-4a49756c2dfa",
   "metadata": {},
   "outputs": [
    {
     "name": "stdout",
     "output_type": "stream",
     "text": [
      "\n",
      "hello world,\n",
      "I am learning data science.\n",
      "\n"
     ]
    }
   ],
   "source": [
    "print('''\n",
    "hello world,\n",
    "I am learning data science.\n",
    "''')"
   ]
  },
  {
   "cell_type": "markdown",
   "id": "bccf6535-b452-4ec0-a059-9805211e22e0",
   "metadata": {},
   "source": [
    "### $ Variable $   $Assignment $"
   ]
  },
  {
   "cell_type": "code",
   "execution_count": 12,
   "id": "472ca3b3-f4fa-4a40-8987-9359f0daa04f",
   "metadata": {},
   "outputs": [],
   "source": [
    "name = \"Riya Tyagi\"\n",
    "company = \"Sutherland Global Services\""
   ]
  },
  {
   "cell_type": "code",
   "execution_count": 13,
   "id": "ed16c90e-36b1-419d-ba02-e97b771bf7c6",
   "metadata": {},
   "outputs": [
    {
     "name": "stdout",
     "output_type": "stream",
     "text": [
      "Riya Tyagi\n"
     ]
    }
   ],
   "source": [
    "print(name)"
   ]
  },
  {
   "cell_type": "code",
   "execution_count": 14,
   "id": "86ef58a6-ef33-4a23-9f2b-de4fb9dc47ca",
   "metadata": {},
   "outputs": [
    {
     "name": "stdout",
     "output_type": "stream",
     "text": [
      "Sutherland Global Services\n"
     ]
    }
   ],
   "source": [
    "print(company)"
   ]
  },
  {
   "cell_type": "code",
   "execution_count": 15,
   "id": "82619932-2725-44d9-98d5-5ccbfea1241e",
   "metadata": {},
   "outputs": [],
   "source": [
    "number = 10"
   ]
  },
  {
   "cell_type": "code",
   "execution_count": 16,
   "id": "f94ef5c4-068b-4d07-97ce-b70214ed540f",
   "metadata": {},
   "outputs": [
    {
     "name": "stdout",
     "output_type": "stream",
     "text": [
      "10\n"
     ]
    }
   ],
   "source": [
    "print(number)"
   ]
  },
  {
   "cell_type": "code",
   "execution_count": 18,
   "id": "c30ebb1b-7214-4cab-8570-1bb566584d42",
   "metadata": {},
   "outputs": [
    {
     "name": "stdout",
     "output_type": "stream",
     "text": [
      "<class 'str'>\n"
     ]
    }
   ],
   "source": [
    "print(type(name))"
   ]
  },
  {
   "cell_type": "code",
   "execution_count": 19,
   "id": "6479d148-cc66-44aa-abe5-3c1634f30da7",
   "metadata": {},
   "outputs": [
    {
     "name": "stdout",
     "output_type": "stream",
     "text": [
      "<class 'int'>\n"
     ]
    }
   ],
   "source": [
    "print(type(number))"
   ]
  },
  {
   "cell_type": "code",
   "execution_count": 20,
   "id": "a4feada1-b9bb-4fd1-b1e2-6cdcef28411f",
   "metadata": {},
   "outputs": [],
   "source": [
    "decimal_num = 2.5"
   ]
  },
  {
   "cell_type": "code",
   "execution_count": 21,
   "id": "f2be0608-10dd-4a14-bfc0-941a45f6c22b",
   "metadata": {},
   "outputs": [
    {
     "name": "stdout",
     "output_type": "stream",
     "text": [
      "2.5\n"
     ]
    }
   ],
   "source": [
    "print(decimal_num)"
   ]
  },
  {
   "cell_type": "code",
   "execution_count": 22,
   "id": "52ed318d-d11c-43aa-9b11-7f879afb32ad",
   "metadata": {},
   "outputs": [
    {
     "name": "stdout",
     "output_type": "stream",
     "text": [
      "<class 'float'>\n"
     ]
    }
   ],
   "source": [
    "print(type(decimal_num))"
   ]
  },
  {
   "cell_type": "code",
   "execution_count": 23,
   "id": "9417f41b-c73b-45ec-aba0-34c46595e2d1",
   "metadata": {},
   "outputs": [
    {
     "data": {
      "text/plain": [
       "2.5"
      ]
     },
     "execution_count": 23,
     "metadata": {},
     "output_type": "execute_result"
    }
   ],
   "source": [
    "decimal_num"
   ]
  },
  {
   "cell_type": "code",
   "execution_count": 24,
   "id": "f83d1a61-6179-477a-b2bc-a3ab89a82553",
   "metadata": {},
   "outputs": [],
   "source": [
    "complex_number = 1+3j"
   ]
  },
  {
   "cell_type": "code",
   "execution_count": 25,
   "id": "9388906c-568b-4d79-9e94-464508a9fb6c",
   "metadata": {},
   "outputs": [
    {
     "name": "stdout",
     "output_type": "stream",
     "text": [
      "(1+3j)\n"
     ]
    }
   ],
   "source": [
    "print(complex_number)"
   ]
  },
  {
   "cell_type": "code",
   "execution_count": 26,
   "id": "1c441573-a87c-4d51-adf7-de80c5ba02a9",
   "metadata": {},
   "outputs": [
    {
     "name": "stdout",
     "output_type": "stream",
     "text": [
      "<class 'complex'>\n"
     ]
    }
   ],
   "source": [
    "print(type(complex_number))"
   ]
  },
  {
   "cell_type": "code",
   "execution_count": 27,
   "id": "e741104b-3900-4f90-970d-01e5c3ef1e8a",
   "metadata": {},
   "outputs": [
    {
     "data": {
      "text/plain": [
       "'\\nint,float,len,complex,bool,str,return,yield\\n'"
      ]
     },
     "execution_count": 27,
     "metadata": {},
     "output_type": "execute_result"
    }
   ],
   "source": [
    "# Reserved Keywords\n",
    "'''\n",
    "int,float,len,complex,bool,str,return,yield\n",
    "'''"
   ]
  },
  {
   "cell_type": "code",
   "execution_count": 28,
   "id": "8144f45d-f144-4dc4-a0b3-e7d5748b29c2",
   "metadata": {},
   "outputs": [
    {
     "data": {
      "text/plain": [
       "True"
      ]
     },
     "execution_count": 28,
     "metadata": {},
     "output_type": "execute_result"
    }
   ],
   "source": [
    "True"
   ]
  },
  {
   "cell_type": "code",
   "execution_count": 29,
   "id": "da67270e-0c8d-45b3-81a5-6cbf45af97d9",
   "metadata": {},
   "outputs": [
    {
     "name": "stdout",
     "output_type": "stream",
     "text": [
      "<class 'bool'>\n"
     ]
    }
   ],
   "source": [
    "print(type(True))"
   ]
  },
  {
   "cell_type": "code",
   "execution_count": 30,
   "id": "caf3d52e-0625-47bf-8347-cc4257c6e46e",
   "metadata": {},
   "outputs": [
    {
     "name": "stdout",
     "output_type": "stream",
     "text": [
      "<class 'bool'>\n"
     ]
    }
   ],
   "source": [
    "print(type(False))"
   ]
  },
  {
   "cell_type": "code",
   "execution_count": 31,
   "id": "337047ff-5d53-4b7d-9c9d-d4e0c45017db",
   "metadata": {},
   "outputs": [
    {
     "data": {
      "text/plain": [
       "False"
      ]
     },
     "execution_count": 31,
     "metadata": {},
     "output_type": "execute_result"
    }
   ],
   "source": [
    "True and False"
   ]
  },
  {
   "cell_type": "code",
   "execution_count": 32,
   "id": "daff019e-0b83-4529-ae9c-391953008697",
   "metadata": {},
   "outputs": [
    {
     "data": {
      "text/plain": [
       "True"
      ]
     },
     "execution_count": 32,
     "metadata": {},
     "output_type": "execute_result"
    }
   ],
   "source": [
    "True or False"
   ]
  },
  {
   "cell_type": "code",
   "execution_count": 33,
   "id": "f38f152b-982c-48fc-b3ab-7232fa8af0ce",
   "metadata": {},
   "outputs": [
    {
     "data": {
      "text/plain": [
       "False"
      ]
     },
     "execution_count": 33,
     "metadata": {},
     "output_type": "execute_result"
    }
   ],
   "source": [
    "not True"
   ]
  },
  {
   "cell_type": "code",
   "execution_count": 34,
   "id": "ea17d000-b470-44cc-85a3-4fbed5c4c342",
   "metadata": {},
   "outputs": [
    {
     "data": {
      "text/plain": [
       "True"
      ]
     },
     "execution_count": 34,
     "metadata": {},
     "output_type": "execute_result"
    }
   ],
   "source": [
    "not False"
   ]
  },
  {
   "cell_type": "code",
   "execution_count": 35,
   "id": "f44332ef-6d80-426f-8d4a-1052c37ec742",
   "metadata": {},
   "outputs": [
    {
     "name": "stdout",
     "output_type": "stream",
     "text": [
      "<class 'bool'>\n"
     ]
    }
   ],
   "source": [
    "print(type(not False))"
   ]
  },
  {
   "cell_type": "code",
   "execution_count": 39,
   "id": "322a940f-3783-446a-9a20-52ac7c624b13",
   "metadata": {},
   "outputs": [
    {
     "data": {
      "text/plain": [
       "False"
      ]
     },
     "execution_count": 39,
     "metadata": {},
     "output_type": "execute_result"
    }
   ],
   "source": [
    "# Typecasting\n",
    "bool(0)"
   ]
  },
  {
   "cell_type": "code",
   "execution_count": 40,
   "id": "7c6638c5-9819-4705-b491-88c4dabe51dc",
   "metadata": {},
   "outputs": [
    {
     "data": {
      "text/plain": [
       "True"
      ]
     },
     "execution_count": 40,
     "metadata": {},
     "output_type": "execute_result"
    }
   ],
   "source": [
    "bool(1)"
   ]
  },
  {
   "cell_type": "code",
   "execution_count": 41,
   "id": "31a27aea-3fa5-4b95-aeaa-eed3b65a029d",
   "metadata": {},
   "outputs": [
    {
     "name": "stdout",
     "output_type": "stream",
     "text": [
      "True\n"
     ]
    }
   ],
   "source": [
    "a = 1\n",
    "if bool(a) == True:\n",
    "    print(\"True\")"
   ]
  },
  {
   "cell_type": "code",
   "execution_count": 42,
   "id": "badd6000-fe5e-4057-852a-524a05d81de0",
   "metadata": {},
   "outputs": [
    {
     "data": {
      "text/plain": [
       "'23'"
      ]
     },
     "execution_count": 42,
     "metadata": {},
     "output_type": "execute_result"
    }
   ],
   "source": [
    "str(23)"
   ]
  },
  {
   "cell_type": "code",
   "execution_count": 44,
   "id": "6b61fac9-a15e-4aaa-b715-e02be3ecd8f5",
   "metadata": {},
   "outputs": [
    {
     "name": "stdout",
     "output_type": "stream",
     "text": [
      "<class 'str'>\n"
     ]
    }
   ],
   "source": [
    "print(type(str(23)))"
   ]
  },
  {
   "cell_type": "code",
   "execution_count": 45,
   "id": "b3751fca-099c-46f4-beec-940976bdf963",
   "metadata": {},
   "outputs": [
    {
     "data": {
      "text/plain": [
       "23"
      ]
     },
     "execution_count": 45,
     "metadata": {},
     "output_type": "execute_result"
    }
   ],
   "source": [
    "int(str(23))"
   ]
  },
  {
   "cell_type": "code",
   "execution_count": 46,
   "id": "f3f15052-64b8-4149-9ca6-0d83af1f05c2",
   "metadata": {},
   "outputs": [
    {
     "data": {
      "text/plain": [
       "int"
      ]
     },
     "execution_count": 46,
     "metadata": {},
     "output_type": "execute_result"
    }
   ],
   "source": [
    "type(int(str(23)))"
   ]
  },
  {
   "cell_type": "code",
   "execution_count": 47,
   "id": "ef19967b-c703-44fe-8996-c6bdcbe775a3",
   "metadata": {},
   "outputs": [],
   "source": [
    "## dynamic typing"
   ]
  },
  {
   "cell_type": "code",
   "execution_count": 48,
   "id": "fad36156-98ad-48f3-94a6-e03038f57a58",
   "metadata": {},
   "outputs": [],
   "source": [
    "a = 12\n",
    "str1 = \"Riya\"\n",
    "a = \"var\""
   ]
  },
  {
   "cell_type": "code",
   "execution_count": 49,
   "id": "94f1ded1-1812-4cd0-a6b4-7783391edf02",
   "metadata": {},
   "outputs": [
    {
     "name": "stdout",
     "output_type": "stream",
     "text": [
      "<class 'str'>\n"
     ]
    }
   ],
   "source": [
    "print(type(a))"
   ]
  },
  {
   "cell_type": "code",
   "execution_count": 50,
   "id": "fdf4a916-5e0c-4c14-aea9-282a03e84b9a",
   "metadata": {},
   "outputs": [
    {
     "data": {
      "text/plain": [
       "1"
      ]
     },
     "execution_count": 50,
     "metadata": {},
     "output_type": "execute_result"
    }
   ],
   "source": [
    "int(1.24)"
   ]
  },
  {
   "cell_type": "code",
   "execution_count": 51,
   "id": "de3f8481-6c6e-44b2-aee6-9d23295c532e",
   "metadata": {},
   "outputs": [
    {
     "data": {
      "text/plain": [
       "1"
      ]
     },
     "execution_count": 51,
     "metadata": {},
     "output_type": "execute_result"
    }
   ],
   "source": [
    "int(1.8)"
   ]
  },
  {
   "cell_type": "code",
   "execution_count": 52,
   "id": "6c9a02b8-ea25-4496-ad20-06aeac5602a7",
   "metadata": {},
   "outputs": [],
   "source": [
    "## conactenation between different type"
   ]
  },
  {
   "cell_type": "code",
   "execution_count": 53,
   "id": "0f2ce723-0330-4d12-bb34-d9da1e462868",
   "metadata": {},
   "outputs": [
    {
     "data": {
      "text/plain": [
       "'11'"
      ]
     },
     "execution_count": 53,
     "metadata": {},
     "output_type": "execute_result"
    }
   ],
   "source": [
    "\"1\" + \"1\""
   ]
  },
  {
   "cell_type": "code",
   "execution_count": 55,
   "id": "aa48b543-d23d-4936-9ca1-c6d1843631af",
   "metadata": {},
   "outputs": [
    {
     "data": {
      "text/plain": [
       "'1Riya'"
      ]
     },
     "execution_count": 55,
     "metadata": {},
     "output_type": "execute_result"
    }
   ],
   "source": [
    "\"1\" + \"Riya\""
   ]
  },
  {
   "cell_type": "code",
   "execution_count": 57,
   "id": "511dabb7-92c8-41f5-a276-41e7165a7d5c",
   "metadata": {},
   "outputs": [
    {
     "data": {
      "text/plain": [
       "'111111111111'"
      ]
     },
     "execution_count": 57,
     "metadata": {},
     "output_type": "execute_result"
    }
   ],
   "source": [
    "\"1\" * 12"
   ]
  },
  {
   "cell_type": "code",
   "execution_count": 59,
   "id": "ce187d3a-ce17-4eff-83f0-3aa0863529b6",
   "metadata": {},
   "outputs": [
    {
     "data": {
      "text/plain": [
       "array([1, 2, 3])"
      ]
     },
     "execution_count": 59,
     "metadata": {},
     "output_type": "execute_result"
    }
   ],
   "source": [
    "np.array([1,2,3])"
   ]
  },
  {
   "cell_type": "code",
   "execution_count": 60,
   "id": "42c5add0-9404-4648-abe5-2e89eff06b81",
   "metadata": {},
   "outputs": [
    {
     "data": {
      "text/plain": [
       "True"
      ]
     },
     "execution_count": 60,
     "metadata": {},
     "output_type": "execute_result"
    }
   ],
   "source": [
    "bool(2)"
   ]
  },
  {
   "cell_type": "code",
   "execution_count": 61,
   "id": "5a7c6b90-5e03-4a1e-b80b-734d9a659727",
   "metadata": {},
   "outputs": [
    {
     "data": {
      "text/plain": [
       "True"
      ]
     },
     "execution_count": 61,
     "metadata": {},
     "output_type": "execute_result"
    }
   ],
   "source": [
    "bool(1.24)"
   ]
  },
  {
   "cell_type": "code",
   "execution_count": 1,
   "id": "92fd3dcb-949a-47da-b022-c4b942a7b8b7",
   "metadata": {},
   "outputs": [
    {
     "name": "stdout",
     "output_type": "stream",
     "text": [
      "My age is :  26\n"
     ]
    }
   ],
   "source": [
    "age = 26\n",
    "print(\"My age is : \",age)"
   ]
  },
  {
   "cell_type": "code",
   "execution_count": 5,
   "id": "eb40dfaf-4cc8-4ff2-b3b5-3c5eb59746c5",
   "metadata": {},
   "outputs": [
    {
     "name": "stdout",
     "output_type": "stream",
     "text": [
      "My age is 26\n"
     ]
    }
   ],
   "source": [
    "# f-string\n",
    "print(f\"My age is {age}\")"
   ]
  },
  {
   "cell_type": "code",
   "execution_count": 6,
   "id": "26def1c2-33d7-4bbf-b938-74be1738a936",
   "metadata": {},
   "outputs": [
    {
     "name": "stdout",
     "output_type": "stream",
     "text": [
      "My name is Riya and age is 26\n"
     ]
    }
   ],
   "source": [
    "# format\n",
    "name = \"Riya\"\n",
    "age = 26\n",
    "print(\"My name is {} and age is {}\".format(name,age))"
   ]
  },
  {
   "cell_type": "code",
   "execution_count": 7,
   "id": "f58950d5-6a32-406b-830d-c0b7c3d6ff0c",
   "metadata": {},
   "outputs": [
    {
     "name": "stdout",
     "output_type": "stream",
     "text": [
      "My name is 26 and age is Riya\n"
     ]
    }
   ],
   "source": [
    "print(\"My name is {} and age is {}\".format(age,name))"
   ]
  },
  {
   "cell_type": "code",
   "execution_count": 9,
   "id": "b945acf4-6d68-47cd-83a0-9d44251abcaa",
   "metadata": {},
   "outputs": [
    {
     "name": "stdout",
     "output_type": "stream",
     "text": [
      "My name is Riya and age is 26\n"
     ]
    }
   ],
   "source": [
    "# placeholder\n",
    "print(\"My name is {firstname} and age is {firstage}\".format(firstname = name,firstage = age))"
   ]
  },
  {
   "cell_type": "code",
   "execution_count": 20,
   "id": "0d245e2b-74c5-4d7c-a2af-753608014ebd",
   "metadata": {},
   "outputs": [],
   "source": [
    "name = \"Riya Tyagi\"\n",
    "age = 26\n",
    "degree = \"Masters\""
   ]
  },
  {
   "cell_type": "code",
   "execution_count": 23,
   "id": "50315647-415c-4dac-9339-a2c88f71e68b",
   "metadata": {},
   "outputs": [
    {
     "name": "stdout",
     "output_type": "stream",
     "text": [
      " My age is 26 and I have completed my degree of Masters with the name of Riya Tyagi\n"
     ]
    }
   ],
   "source": [
    "print(\" My age is {} and I have completed my degree of {} with the name of {}\".format(age,degree,name))"
   ]
  },
  {
   "cell_type": "code",
   "execution_count": 24,
   "id": "a5e9e82b-a2fc-4d31-a747-6f8335f27292",
   "metadata": {},
   "outputs": [
    {
     "name": "stdout",
     "output_type": "stream",
     "text": [
      " My age is 26 and I have completed my degree of Masters with the name of Riya Tyagi\n"
     ]
    }
   ],
   "source": [
    "print(\" My age is {a} and I have completed my degree of {d} with the name of {n}\".format(a=age,d=degree,n=name))"
   ]
  },
  {
   "cell_type": "code",
   "execution_count": 25,
   "id": "93f6e847-ccba-4c82-b989-ea9515394a58",
   "metadata": {},
   "outputs": [
    {
     "name": "stdout",
     "output_type": "stream",
     "text": [
      "My age is 26 and I ahve completed my degree of Masters with the name of Riya Tyagi\n"
     ]
    }
   ],
   "source": [
    "print(f\"My age is {age} and I ahve completed my degree of {degree} with the name of {name}\")"
   ]
  },
  {
   "cell_type": "code",
   "execution_count": 26,
   "id": "6a6c827d-8d56-4b90-b07e-5c6101b3136a",
   "metadata": {},
   "outputs": [],
   "source": [
    "# control flow"
   ]
  },
  {
   "cell_type": "markdown",
   "id": "7d196efa-431f-4b77-9e1f-adcf6f94e3bf",
   "metadata": {},
   "source": [
    "## Control flow\n",
    "### Decision Making statements\n",
    "* It is a kind of making decision during occured situstaion of program  execution and action can be taken according to specified conditions.\n",
    " * Structure of Decision making evaluates several expressions that provide True or False as a result.\n",
    " * It is up to you to decide which type of action want to take and execute the statements based upon True and False.\n",
    "\n",
    "##### This are several topics of decision making which going to be discussed below:**\n",
    "    1. **if**\n",
    "    2. **if else**\n",
    "    3. **if elif else**\n",
    "    4. **Nested if**\n",
    "    5. **Single Statement Suites**"
   ]
  },
  {
   "cell_type": "code",
   "execution_count": 4,
   "id": "66717d75-3db1-4e3a-8d07-84e99f2f0265",
   "metadata": {},
   "outputs": [
    {
     "name": "stdin",
     "output_type": "stream",
     "text": [
      "Your age :  18\n"
     ]
    },
    {
     "name": "stdout",
     "output_type": "stream",
     "text": [
      "You are eligible to vote\n"
     ]
    }
   ],
   "source": [
    "# If statement\n",
    "age = int(input(\"Your age : \"))\n",
    "if age >= 18 :\n",
    "    print(\"You are eligible to vote\")\n",
    "else:\n",
    "    print(\"You are not eligible to vote\")"
   ]
  },
  {
   "cell_type": "code",
   "execution_count": 9,
   "id": "12fdf3df-faaa-426a-b9a5-11fb94f0270d",
   "metadata": {},
   "outputs": [
    {
     "name": "stdin",
     "output_type": "stream",
     "text": [
      "Enter the name Riya Tyagi\n"
     ]
    }
   ],
   "source": [
    "name = input(\"Enter the name\")"
   ]
  },
  {
   "cell_type": "code",
   "execution_count": 10,
   "id": "f7bfd026-a24f-4837-8396-3a4e6f81e9c4",
   "metadata": {},
   "outputs": [
    {
     "data": {
      "text/plain": [
       "'Riya Tyagi'"
      ]
     },
     "execution_count": 10,
     "metadata": {},
     "output_type": "execute_result"
    }
   ],
   "source": [
    "name"
   ]
  },
  {
   "cell_type": "code",
   "execution_count": 11,
   "id": "26312e81-94ef-4bfe-aa9c-0cadda0c5df4",
   "metadata": {},
   "outputs": [],
   "source": [
    "## Task\n",
    "\n",
    "### Take a input of age \n",
    "### Check whether age >= 18 and age <= 45\n",
    "### Display a message You are young blood"
   ]
  },
  {
   "cell_type": "code",
   "execution_count": 13,
   "id": "69cfcfaf-c9d8-4ed5-bd39-5e1d1d05fdd5",
   "metadata": {},
   "outputs": [
    {
     "name": "stdin",
     "output_type": "stream",
     "text": [
      "age :  50\n"
     ]
    }
   ],
   "source": [
    "age = int(input(\"age : \"))\n",
    "if age >= 18 and age <= 45:\n",
    "    print(\"You are young blood\")"
   ]
  },
  {
   "cell_type": "code",
   "execution_count": 15,
   "id": "eb73c755-383a-485d-986c-9551fb60dcc8",
   "metadata": {},
   "outputs": [
    {
     "data": {
      "text/plain": [
       "False"
      ]
     },
     "execution_count": 15,
     "metadata": {},
     "output_type": "execute_result"
    }
   ],
   "source": [
    "50 >= 18 and 50<= 45"
   ]
  },
  {
   "cell_type": "code",
   "execution_count": 17,
   "id": "daa3abb9-a18e-4358-a795-8a0b1756d751",
   "metadata": {},
   "outputs": [
    {
     "name": "stdin",
     "output_type": "stream",
     "text": [
      "age :  17\n"
     ]
    },
    {
     "name": "stdout",
     "output_type": "stream",
     "text": [
      "Thank you  your application is rejected\n"
     ]
    }
   ],
   "source": [
    "## if else statement\n",
    "age = int(input(\"age : \"))\n",
    "if age >= 18 and age <= 45:\n",
    "    print(\"You are young blood\")\n",
    "else:\n",
    "    print(\"Thank you  your application is rejected\")"
   ]
  },
  {
   "cell_type": "code",
   "execution_count": 18,
   "id": "88bf89e8-711b-46d8-8980-175cac82fc04",
   "metadata": {},
   "outputs": [],
   "source": [
    "## mall - input the product price\n",
    "##  product  > 1000 rs get 20% off\n",
    "## then print the product price after the off\n",
    "##  product <= 1000 rs get 30% off\n",
    "## then print the product price after the off"
   ]
  },
  {
   "cell_type": "code",
   "execution_count": 11,
   "id": "76d7df19-c557-41f3-99c0-2c2e26a63fe6",
   "metadata": {},
   "outputs": [
    {
     "name": "stdin",
     "output_type": "stream",
     "text": [
      "Enter the product price :  1557\n"
     ]
    },
    {
     "name": "stdout",
     "output_type": "stream",
     "text": [
      "Congratulations ! You get 20% off and now product price is 1245.6\n"
     ]
    }
   ],
   "source": [
    "pp = int(input(\"Enter the product price : \"))\n",
    "if pp > 1000:\n",
    "    print(f\"Congratulations ! You get 20% off and now product price is {pp-pp*20/100}\")\n",
    "else:\n",
    "    print(f\"Congratulations ! You get 30% off and now product price is {pp-pp*30/100}\")"
   ]
  },
  {
   "cell_type": "code",
   "execution_count": 12,
   "id": "5d9d77dd-66a1-4ec2-a848-1280071fc797",
   "metadata": {},
   "outputs": [
    {
     "name": "stdin",
     "output_type": "stream",
     "text": [
      "Enter the product price :  1557\n"
     ]
    },
    {
     "name": "stdout",
     "output_type": "stream",
     "text": [
      "Congratulations ! You get 20% off and now product price is 1245.6\n"
     ]
    }
   ],
   "source": [
    "pp = int(input(\"Enter the product price : \"))\n",
    "if pp > 1000:\n",
    "    print(\"Congratulations ! You get 20% off and now product price is {}\".format(pp-pp*20/100))\n",
    "else:\n",
    "    print(\"Congratulations ! You get 30% off and now product price is {}\".format(pp-pp*30/100))"
   ]
  },
  {
   "cell_type": "code",
   "execution_count": 1,
   "id": "43e8e014-32d6-415d-8a2a-9f72a6fcf554",
   "metadata": {},
   "outputs": [],
   "source": [
    "## mall - input the product price\n",
    "##  product  > 3000 rs get 20% off\n",
    "## if the price == 4000 you get trip to goa\n",
    "## then print the product price after the off\n",
    "##  product  >= 2000 rs and <=3000 get 30% off\n",
    "## then print the product price after the off\n",
    "## if price == 2999 rs you will get additional gift\n",
    "##  product >= 100rs  and  <= 2000rs get 30% off\n",
    "## then print the product price after the off"
   ]
  },
  {
   "cell_type": "code",
   "execution_count": 4,
   "id": "79da3e96-c848-470e-9974-6ffc7f0725b2",
   "metadata": {},
   "outputs": [
    {
     "name": "stdin",
     "output_type": "stream",
     "text": [
      "Enter the product price :  55\n"
     ]
    },
    {
     "name": "stdout",
     "output_type": "stream",
     "text": [
      "Let's drink tea\n",
      "Itne mein itna hi milega!\n"
     ]
    }
   ],
   "source": [
    "pp = int(input(\"Enter the product price : \"))\n",
    "if pp > 3000:\n",
    "    if pp == 4000:\n",
    "        print(\"Congratulations, You get a goa trip!\")\n",
    "    print(\"Congratulations ! You get 20% off and now product price is {}\".format(pp-pp*20/100))\n",
    "    \n",
    "elif pp >2000 and pp <=3000:\n",
    "    if pp == 2999:\n",
    "        print(\"Congratulations! You got an additional gift\")\n",
    "    print(\"Congratulations ! You get 30% off and now product price is {}\".format(pp-pp*30/100))\n",
    "elif pp >=100 and pp <=2000:\n",
    "    print(\"Congratulations ! You get 40% off and now product price is {}\".format(pp-pp*40/100))\n",
    "else:\n",
    "    print(\"Let's drink tea\")\n",
    "    print(\"Itne mein itna hi milega!\")\n"
   ]
  },
  {
   "cell_type": "code",
   "execution_count": 8,
   "id": "444f8894-8111-447b-8f49-2e09120f14bb",
   "metadata": {},
   "outputs": [
    {
     "name": "stdin",
     "output_type": "stream",
     "text": [
      "Enter the number :  1200\n"
     ]
    },
    {
     "name": "stdout",
     "output_type": "stream",
     "text": [
      "Go Home!\n"
     ]
    }
   ],
   "source": [
    "## Single statements Suites\n",
    "val = int(input(\"Enter the number : \"))\n",
    "if (val<= 999):print(\"Value is less than or equal to 999\")\n",
    "else:print(\"Go Home!\")"
   ]
  },
  {
   "cell_type": "markdown",
   "id": "6f753358-eeb7-4119-8841-0cd8783b9492",
   "metadata": {},
   "source": [
    "## Loops Statements\n",
    "1. While Loop\n",
    "2. For Loop\n",
    "3. Nested Loops\n",
    "4. Loop control(break,continue,pass)"
   ]
  },
  {
   "cell_type": "code",
   "execution_count": 12,
   "id": "03c6f4bc-04f5-49c4-a905-a87846a13601",
   "metadata": {},
   "outputs": [
    {
     "name": "stdout",
     "output_type": "stream",
     "text": [
      "25\n",
      "26\n",
      "27\n",
      "28\n",
      "29\n",
      "30\n",
      "31\n",
      "32\n",
      "33\n",
      "34\n",
      "35\n",
      "36\n",
      "37\n",
      "38\n",
      "39\n",
      "40\n",
      "41\n",
      "42\n",
      "43\n",
      "44\n",
      "45\n",
      "46\n",
      "47\n",
      "48\n",
      "49\n",
      "50\n",
      "51\n",
      "52\n",
      "53\n",
      "54\n",
      "55\n",
      "56\n",
      "57\n",
      "58\n",
      "59\n",
      "Its time for retirement\n"
     ]
    }
   ],
   "source": [
    "# while loop, while-else loop\n",
    "joining_age = 25\n",
    "while joining_age < 60:\n",
    "    print(joining_age)\n",
    "    joining_age = joining_age+1\n",
    "else:\n",
    "    print(\"Its time for retirement\")"
   ]
  },
  {
   "cell_type": "code",
   "execution_count": 13,
   "id": "c85797f2-30e7-4caa-9869-0e1254582f85",
   "metadata": {},
   "outputs": [
    {
     "name": "stdout",
     "output_type": "stream",
     "text": [
      "1000\n",
      "900\n",
      "800\n",
      "700\n",
      "600\n",
      "500\n",
      "400\n",
      "300\n",
      "200\n",
      "100\n",
      "All money is exhausted\n"
     ]
    }
   ],
   "source": [
    "total_money = 1000\n",
    "while total_money > 0:\n",
    "    print(total_money)\n",
    "    total_money = total_money - 100\n",
    "else:\n",
    "    print(\"All money is exhausted\")"
   ]
  },
  {
   "cell_type": "markdown",
   "id": "23351a04-eb94-4cee-851c-29a1f24ccff5",
   "metadata": {},
   "source": [
    "## For Loop"
   ]
  },
  {
   "cell_type": "code",
   "execution_count": 14,
   "id": "de714590-5b20-424d-9670-484a74af2f42",
   "metadata": {},
   "outputs": [],
   "source": [
    "List = [\"Riya\",1,2,3,4,\"Apple\",\"Banana\"]"
   ]
  },
  {
   "cell_type": "code",
   "execution_count": 15,
   "id": "7c1daa38-9182-48bc-a715-d88e43ebbd84",
   "metadata": {},
   "outputs": [
    {
     "name": "stdout",
     "output_type": "stream",
     "text": [
      "['Riya', 1, 2, 3, 4, 'Apple', 'Banana']\n"
     ]
    }
   ],
   "source": [
    "print(List)"
   ]
  },
  {
   "cell_type": "code",
   "execution_count": 17,
   "id": "fc397ad4-512d-424c-9341-e9d0f84e332d",
   "metadata": {},
   "outputs": [
    {
     "name": "stdout",
     "output_type": "stream",
     "text": [
      "<class 'list'>\n"
     ]
    }
   ],
   "source": [
    "print(type(List))"
   ]
  },
  {
   "cell_type": "code",
   "execution_count": 20,
   "id": "aef952a2-f504-41fc-b1a9-5307a8e34132",
   "metadata": {},
   "outputs": [
    {
     "name": "stdout",
     "output_type": "stream",
     "text": [
      "4\n"
     ]
    }
   ],
   "source": [
    "print(List[4])"
   ]
  },
  {
   "cell_type": "code",
   "execution_count": 23,
   "id": "01f3cb32-d74c-45b4-9b8b-99d039dd4bf8",
   "metadata": {},
   "outputs": [
    {
     "name": "stdout",
     "output_type": "stream",
     "text": [
      "Riya\n",
      "1\n",
      "2\n",
      "3\n",
      "4\n",
      "Apple\n",
      "Banana\n"
     ]
    }
   ],
   "source": [
    "for x in List:\n",
    "    print(x)"
   ]
  },
  {
   "cell_type": "code",
   "execution_count": 24,
   "id": "5f3bdbfd-78a5-4668-9148-8aba916ba2d0",
   "metadata": {},
   "outputs": [],
   "source": [
    "fruits_list = [\"Mango\",\"Cherry\",\"Apple\",\"Papaya\",\"Banana\"]"
   ]
  },
  {
   "cell_type": "code",
   "execution_count": 30,
   "id": "47b68a96-f9ca-4979-b44e-c91ef0222719",
   "metadata": {},
   "outputs": [
    {
     "name": "stdout",
     "output_type": "stream",
     "text": [
      "Mango\n",
      "Cherry\n",
      "The fruit is cherry.\n",
      "Apple\n",
      "Papaya\n",
      "Banana\n"
     ]
    }
   ],
   "source": [
    "for a in fruits_list:\n",
    "    print(a)\n",
    "    if a == \"Cherry\":\n",
    "        print(\"The fruit is cherry.\")"
   ]
  },
  {
   "cell_type": "code",
   "execution_count": 39,
   "id": "23022bee-c58e-4486-a6ad-f5cffc6dc75b",
   "metadata": {},
   "outputs": [
    {
     "name": "stdout",
     "output_type": "stream",
     "text": [
      "m\n",
      "a\n",
      "n\n",
      "g\n",
      "o\n"
     ]
    }
   ],
   "source": [
    "fruit = 'mango'\n",
    "for x in fruit:\n",
    "    print(x)"
   ]
  },
  {
   "cell_type": "code",
   "execution_count": 33,
   "id": "df730634-bb63-474a-9414-4e3f9d03bb22",
   "metadata": {},
   "outputs": [
    {
     "data": {
      "text/plain": [
       "'m'"
      ]
     },
     "execution_count": 33,
     "metadata": {},
     "output_type": "execute_result"
    }
   ],
   "source": [
    "fruit[0]"
   ]
  },
  {
   "cell_type": "code",
   "execution_count": 36,
   "id": "9b6cf497-5cec-44a1-a61b-ba405fdcda95",
   "metadata": {},
   "outputs": [
    {
     "data": {
      "text/plain": [
       "'g'"
      ]
     },
     "execution_count": 36,
     "metadata": {},
     "output_type": "execute_result"
    }
   ],
   "source": [
    "fruit[3]"
   ]
  },
  {
   "cell_type": "code",
   "execution_count": 41,
   "id": "343bbb5d-def2-4252-aa88-1b79c5a97792",
   "metadata": {},
   "outputs": [
    {
     "name": "stdout",
     "output_type": "stream",
     "text": [
      "range(1, 6)\n"
     ]
    }
   ],
   "source": [
    "print(range(1,6))"
   ]
  },
  {
   "cell_type": "code",
   "execution_count": 45,
   "id": "f02070e1-4cd3-4b49-8a8b-6497a57920e1",
   "metadata": {},
   "outputs": [
    {
     "name": "stdout",
     "output_type": "stream",
     "text": [
      "1\n",
      "2\n",
      "3\n",
      "4\n",
      "5\n",
      "6\n",
      "7\n",
      "8\n",
      "9\n"
     ]
    }
   ],
   "source": [
    "for i in range(1,10):\n",
    "    print(i)"
   ]
  },
  {
   "cell_type": "code",
   "execution_count": 46,
   "id": "e50e029a-4af5-475c-b4d7-a62edea15bd5",
   "metadata": {},
   "outputs": [
    {
     "name": "stdout",
     "output_type": "stream",
     "text": [
      "1\n",
      "3\n",
      "5\n",
      "7\n",
      "9\n"
     ]
    }
   ],
   "source": [
    "for i in range(1,10,2):\n",
    "    print(i)"
   ]
  },
  {
   "cell_type": "code",
   "execution_count": 55,
   "id": "46ae882c-b96e-4fff-a2e1-7057e451a8ac",
   "metadata": {},
   "outputs": [
    {
     "name": "stdout",
     "output_type": "stream",
     "text": [
      " * \n",
      " *  *  * \n",
      " *  *  *  *  * \n"
     ]
    }
   ],
   "source": [
    "## Nested loops\n",
    "n = 7\n",
    "for i in range(1,n,2):\n",
    "    for j in range(1,i+1):\n",
    "        print(\" * \",end = \"\")\n",
    "    print(\"\\r\")"
   ]
  },
  {
   "cell_type": "code",
   "execution_count": 56,
   "id": "1f3c9390-36ab-4260-9443-b9a231650113",
   "metadata": {},
   "outputs": [],
   "source": [
    "## Loop Controls\n",
    "## Break and Continue\n",
    "fruits_list = [\"Mango\",\"Cherry\",\"Apple\",\"Papaya\",\"Banana\"]\n"
   ]
  },
  {
   "cell_type": "code",
   "execution_count": 62,
   "id": "24701346-0f79-4c83-b671-498f1ccc3ef5",
   "metadata": {},
   "outputs": [
    {
     "name": "stdout",
     "output_type": "stream",
     "text": [
      "Mango\n",
      "Cherry\n",
      "The fruit is apple\n",
      "Papaya\n",
      "Banana\n"
     ]
    }
   ],
   "source": [
    "# continue\n",
    "for i in fruits_list:\n",
    "    if i == \"Apple\":\n",
    "        print(\"The fruit is apple\")\n",
    "        continue\n",
    "    print(i)"
   ]
  },
  {
   "cell_type": "code",
   "execution_count": 62,
   "id": "0c9e1158",
   "metadata": {},
   "outputs": [
    {
     "name": "stdout",
     "output_type": "stream",
     "text": [
      "Mango\n",
      "Cherry\n",
      "The fruit is apple\n",
      "Papaya\n",
      "Banana\n"
     ]
    }
   ],
   "source": [
    "# continue\n",
    "for i in fruits_list:\n",
    "    if i == \"Apple\":\n",
    "        print(\"The fruit is apple\")\n",
    "        continue\n",
    "    print(i)"
   ]
  },
  {
   "cell_type": "code",
   "execution_count": 62,
   "id": "d4c97bbf",
   "metadata": {},
   "outputs": [
    {
     "name": "stdout",
     "output_type": "stream",
     "text": [
      "Mango\n",
      "Cherry\n",
      "The fruit is apple\n",
      "Papaya\n",
      "Banana\n"
     ]
    }
   ],
   "source": [
    "# continue\n",
    "for i in fruits_list:\n",
    "    if i == \"Apple\":\n",
    "        print(\"The fruit is apple\")\n",
    "        continue\n",
    "    print(i)"
   ]
  },
  {
   "cell_type": "code",
   "execution_count": null,
   "id": "7b519997-5978-4954-a011-4141c917e01d",
   "metadata": {},
   "outputs": [],
   "source": []
  }
 ],
 "metadata": {
  "kernelspec": {
   "display_name": "Python 3 (ipykernel)",
   "language": "python",
   "name": "python3"
  },
  "language_info": {
   "codemirror_mode": {
    "name": "ipython",
    "version": 3
   },
   "file_extension": ".py",
   "mimetype": "text/x-python",
   "name": "python",
   "nbconvert_exporter": "python",
   "pygments_lexer": "ipython3",
   "version": "3.10.8"
  }
 },
 "nbformat": 4,
 "nbformat_minor": 5
}
